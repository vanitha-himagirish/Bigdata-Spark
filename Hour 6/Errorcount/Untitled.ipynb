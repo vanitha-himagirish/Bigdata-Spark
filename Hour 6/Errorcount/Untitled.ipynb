{
 "cells": [
  {
   "cell_type": "code",
   "execution_count": 1,
   "metadata": {},
   "outputs": [],
   "source": [
    "licensefiles = sc.textFile(\"file:///spark-2.4.4-bin-hadoop2.7/licenses/\")"
   ]
  },
  {
   "cell_type": "code",
   "execution_count": 2,
   "metadata": {},
   "outputs": [
    {
     "data": {
      "text/plain": [
       "file:///spark-2.4.4-bin-hadoop2.7/licenses/ MapPartitionsRDD[1] at textFile at NativeMethodAccessorImpl.java:0"
      ]
     },
     "execution_count": 2,
     "metadata": {},
     "output_type": "execute_result"
    }
   ],
   "source": [
    "licensefiles\n"
   ]
  },
  {
   "cell_type": "code",
   "execution_count": 3,
   "metadata": {},
   "outputs": [
    {
     "data": {
      "text/plain": [
       "47"
      ]
     },
     "execution_count": 3,
     "metadata": {},
     "output_type": "execute_result"
    }
   ],
   "source": [
    "licensefiles.getNumPartitions()"
   ]
  },
  {
   "cell_type": "code",
   "execution_count": 6,
   "metadata": {},
   "outputs": [
    {
     "data": {
      "text/plain": [
       "2054"
      ]
     },
     "execution_count": 6,
     "metadata": {},
     "output_type": "execute_result"
    }
   ],
   "source": [
    "licensefiles.count()\n"
   ]
  },
  {
   "cell_type": "code",
   "execution_count": 1,
   "metadata": {},
   "outputs": [],
   "source": [
    "licensefile_pairs = sc.wholeTextFiles(\"file:///spark-2.4.4-bin-hadoop2.7/licenses/\")\n",
    "\n"
   ]
  },
  {
   "cell_type": "code",
   "execution_count": 2,
   "metadata": {},
   "outputs": [
    {
     "data": {
      "text/plain": [
       "org.apache.spark.api.java.JavaPairRDD@bb0ef64"
      ]
     },
     "execution_count": 2,
     "metadata": {},
     "output_type": "execute_result"
    }
   ],
   "source": [
    "licensefile_pairs"
   ]
  },
  {
   "cell_type": "code",
   "execution_count": 3,
   "metadata": {},
   "outputs": [
    {
     "data": {
      "text/plain": [
       "2"
      ]
     },
     "execution_count": 3,
     "metadata": {},
     "output_type": "execute_result"
    }
   ],
   "source": [
    "licensefile_pairs.getNumPartitions()\n"
   ]
  },
  {
   "cell_type": "code",
   "execution_count": 4,
   "metadata": {},
   "outputs": [
    {
     "data": {
      "text/plain": [
       "47"
      ]
     },
     "execution_count": 4,
     "metadata": {},
     "output_type": "execute_result"
    }
   ],
   "source": [
    "licensefile_pairs.count()\n"
   ]
  },
  {
   "cell_type": "code",
   "execution_count": 5,
   "metadata": {},
   "outputs": [
    {
     "data": {
      "text/plain": [
       "['file:/spark-2.4.4-bin-hadoop2.7/licenses/LICENSE-AnchorJS.txt',\n",
       " 'file:/spark-2.4.4-bin-hadoop2.7/licenses/LICENSE-antlr.txt',\n",
       " 'file:/spark-2.4.4-bin-hadoop2.7/licenses/LICENSE-arpack.txt',\n",
       " 'file:/spark-2.4.4-bin-hadoop2.7/licenses/LICENSE-automaton.txt',\n",
       " 'file:/spark-2.4.4-bin-hadoop2.7/licenses/LICENSE-bootstrap.txt',\n",
       " 'file:/spark-2.4.4-bin-hadoop2.7/licenses/LICENSE-CC0.txt',\n",
       " 'file:/spark-2.4.4-bin-hadoop2.7/licenses/LICENSE-cloudpickle.txt',\n",
       " 'file:/spark-2.4.4-bin-hadoop2.7/licenses/LICENSE-d3.min.js.txt',\n",
       " 'file:/spark-2.4.4-bin-hadoop2.7/licenses/LICENSE-dagre-d3.txt',\n",
       " 'file:/spark-2.4.4-bin-hadoop2.7/licenses/LICENSE-datatables.txt',\n",
       " 'file:/spark-2.4.4-bin-hadoop2.7/licenses/LICENSE-f2j.txt',\n",
       " 'file:/spark-2.4.4-bin-hadoop2.7/licenses/LICENSE-graphlib-dot.txt',\n",
       " 'file:/spark-2.4.4-bin-hadoop2.7/licenses/LICENSE-heapq.txt',\n",
       " 'file:/spark-2.4.4-bin-hadoop2.7/licenses/LICENSE-janino.txt',\n",
       " 'file:/spark-2.4.4-bin-hadoop2.7/licenses/LICENSE-javassist.html',\n",
       " 'file:/spark-2.4.4-bin-hadoop2.7/licenses/LICENSE-javolution.txt',\n",
       " 'file:/spark-2.4.4-bin-hadoop2.7/licenses/LICENSE-jline.txt',\n",
       " 'file:/spark-2.4.4-bin-hadoop2.7/licenses/LICENSE-jodd.txt',\n",
       " 'file:/spark-2.4.4-bin-hadoop2.7/licenses/LICENSE-join.txt',\n",
       " 'file:/spark-2.4.4-bin-hadoop2.7/licenses/LICENSE-jquery.txt',\n",
       " 'file:/spark-2.4.4-bin-hadoop2.7/licenses/LICENSE-json-formatter.txt',\n",
       " 'file:/spark-2.4.4-bin-hadoop2.7/licenses/LICENSE-jtransforms.html',\n",
       " 'file:/spark-2.4.4-bin-hadoop2.7/licenses/LICENSE-kryo.txt',\n",
       " 'file:/spark-2.4.4-bin-hadoop2.7/licenses/LICENSE-leveldbjni.txt',\n",
       " 'file:/spark-2.4.4-bin-hadoop2.7/licenses/LICENSE-machinist.txt',\n",
       " 'file:/spark-2.4.4-bin-hadoop2.7/licenses/LICENSE-matchMedia-polyfill.txt',\n",
       " 'file:/spark-2.4.4-bin-hadoop2.7/licenses/LICENSE-minlog.txt',\n",
       " 'file:/spark-2.4.4-bin-hadoop2.7/licenses/LICENSE-modernizr.txt',\n",
       " 'file:/spark-2.4.4-bin-hadoop2.7/licenses/LICENSE-mustache.txt',\n",
       " 'file:/spark-2.4.4-bin-hadoop2.7/licenses/LICENSE-netlib.txt',\n",
       " 'file:/spark-2.4.4-bin-hadoop2.7/licenses/LICENSE-paranamer.txt',\n",
       " 'file:/spark-2.4.4-bin-hadoop2.7/licenses/LICENSE-pmml-model.txt',\n",
       " 'file:/spark-2.4.4-bin-hadoop2.7/licenses/LICENSE-protobuf.txt',\n",
       " 'file:/spark-2.4.4-bin-hadoop2.7/licenses/LICENSE-py4j.txt',\n",
       " 'file:/spark-2.4.4-bin-hadoop2.7/licenses/LICENSE-pyrolite.txt',\n",
       " 'file:/spark-2.4.4-bin-hadoop2.7/licenses/LICENSE-reflectasm.txt',\n",
       " 'file:/spark-2.4.4-bin-hadoop2.7/licenses/LICENSE-respond.txt',\n",
       " 'file:/spark-2.4.4-bin-hadoop2.7/licenses/LICENSE-sbt-launch-lib.txt',\n",
       " 'file:/spark-2.4.4-bin-hadoop2.7/licenses/LICENSE-scala.txt',\n",
       " 'file:/spark-2.4.4-bin-hadoop2.7/licenses/LICENSE-scopt.txt',\n",
       " 'file:/spark-2.4.4-bin-hadoop2.7/licenses/LICENSE-slf4j.txt',\n",
       " 'file:/spark-2.4.4-bin-hadoop2.7/licenses/LICENSE-sorttable.js.txt',\n",
       " 'file:/spark-2.4.4-bin-hadoop2.7/licenses/LICENSE-spire.txt',\n",
       " 'file:/spark-2.4.4-bin-hadoop2.7/licenses/LICENSE-vis.txt',\n",
       " 'file:/spark-2.4.4-bin-hadoop2.7/licenses/LICENSE-xmlenc.txt',\n",
       " 'file:/spark-2.4.4-bin-hadoop2.7/licenses/LICENSE-zstd-jni.txt',\n",
       " 'file:/spark-2.4.4-bin-hadoop2.7/licenses/LICENSE-zstd.txt']"
      ]
     },
     "execution_count": 5,
     "metadata": {},
     "output_type": "execute_result"
    }
   ],
   "source": [
    "filenames = licensefile_pairs.keys()\n",
    "filenames.collect()\n"
   ]
  },
  {
   "cell_type": "code",
   "execution_count": 6,
   "metadata": {},
   "outputs": [
    {
     "data": {
      "text/plain": [
       "['The MIT License (MIT)\\n\\nCopyright (c) <year> <copyright holders>\\n\\nPermission is hereby granted, free of charge, to any person obtaining a copy\\nof this software and associated documentation files (the \"Software\"), to deal\\nin the Software without restriction, including without limitation the rights\\nto use, copy, modify, merge, publish, distribute, sublicense, and/or sell\\ncopies of the Software, and to permit persons to whom the Software is\\nfurnished to do so, subject to the following conditions:\\n\\nThe above copyright notice and this permission notice shall be included in\\nall copies or substantial portions of the Software.\\n\\nTHE SOFTWARE IS PROVIDED \"AS IS\", WITHOUT WARRANTY OF ANY KIND, EXPRESS OR\\nIMPLIED, INCLUDING BUT NOT LIMITED TO THE WARRANTIES OF MERCHANTABILITY,\\nFITNESS FOR A PARTICULAR PURPOSE AND NONINFRINGEMENT. IN NO EVENT SHALL THE\\nAUTHORS OR COPYRIGHT HOLDERS BE LIABLE FOR ANY CLAIM, DAMAGES OR OTHER\\nLIABILITY, WHETHER IN AN ACTION OF CONTRACT, TORT OR OTHERWISE, ARISING FROM,\\nOUT OF OR IN CONNECTION WITH THE SOFTWARE OR THE USE OR OTHER DEALINGS IN\\nTHE SOFTWARE.']"
      ]
     },
     "execution_count": 6,
     "metadata": {},
     "output_type": "execute_result"
    }
   ],
   "source": [
    "filedata = licensefile_pairs.values()\n",
    "filedata.take(1)"
   ]
  },
  {
   "cell_type": "code",
   "execution_count": null,
   "metadata": {},
   "outputs": [],
   "source": []
  }
 ],
 "metadata": {
  "kernelspec": {
   "display_name": "Python 3",
   "language": "python",
   "name": "python3"
  },
  "language_info": {
   "codemirror_mode": {
    "name": "ipython",
    "version": 3
   },
   "file_extension": ".py",
   "mimetype": "text/x-python",
   "name": "python",
   "nbconvert_exporter": "python",
   "pygments_lexer": "ipython3",
   "version": "3.7.3"
  }
 },
 "nbformat": 4,
 "nbformat_minor": 2
}
