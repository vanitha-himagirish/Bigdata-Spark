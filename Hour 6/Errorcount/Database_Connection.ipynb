{
 "cells": [
  {
   "cell_type": "code",
   "execution_count": 4,
   "metadata": {},
   "outputs": [
    {
     "name": "stdout",
     "output_type": "stream",
     "text": [
      "+----------+--------------------+--------------------+------------+--------------------+\n",
      "|CustomerID|           FirstName|            LastName|       Phone|               Email|\n",
      "+----------+--------------------+--------------------+------------+--------------------+\n",
      "|         1|Nikki            ...|Kaccaton         ...|723-543-1233|Nikki.Kaccaton@so...|\n",
      "|         2|Brenda           ...|Catnazaro        ...|723-543-2344|Brenda.Catnazaro@...|\n",
      "|         3|Bruce            ...|LeCat            ...|723-543-3455|Bruce.LeCat@somew...|\n",
      "|         4|Betsy            ...|Miller           ...|725-654-3211|Betsy.Miller@some...|\n",
      "|         5|George           ...|Miller           ...|725-654-4322|George.Miller@som...|\n",
      "|         6|Kathy            ...|Miller           ...|723-514-9877|Kathy.Miller@some...|\n",
      "|         7|Betsy            ...|Miller           ...|723-514-8766|Betsy.Miller@else...|\n",
      "+----------+--------------------+--------------------+------------+--------------------+\n",
      "\n"
     ]
    }
   ],
   "source": [
    "#import required modules\n",
    "from pyspark import SparkConf, SparkContext\n",
    "from pyspark.sql import SparkSession\n",
    " \n",
    "#Create spark configuration object\n",
    "conf = SparkConf()\n",
    "conf.setMaster(\"local\").setAppName(\"My app\")\n",
    " \n",
    "#Create spark context and sparksession\n",
    "sc = SparkContext.getOrCreate(conf=conf)\n",
    "spark = SparkSession(sc)\n",
    "#set variable to be used to connect the database\n",
    "database = \"DRYCLEANING\"\n",
    "table = \"dbo.CUSTOMER\"\n",
    "\n",
    " \n",
    "#read table data into a spark dataframe\n",
    "jdbcDF = spark.read.format(\"jdbc\") \\\n",
    "    .option(\"url\", f\"jdbc:sqlserver://DESKTOP-DR0UTM2\\\\SQLEXPRESS;databaseName={database};\") \\\n",
    "    .option(\"dbtable\", table) \\\n",
    "    .option(\"user\", \"spark\") \\\n",
    "    .option(\"password\", \"\") \\\n",
    "    .option(\"driver\", \"com.microsoft.sqlserver.jdbc.SQLServerDriver\") \\\n",
    "    .load()\n",
    " \n",
    "#show the data loaded into dataframe\n",
    "jdbcDF.show()"
   ]
  },
  {
   "cell_type": "code",
   "execution_count": null,
   "metadata": {},
   "outputs": [],
   "source": []
  },
  {
   "cell_type": "code",
   "execution_count": null,
   "metadata": {},
   "outputs": [],
   "source": []
  }
 ],
 "metadata": {
  "kernelspec": {
   "display_name": "Python 3",
   "language": "python",
   "name": "python3"
  },
  "language_info": {
   "codemirror_mode": {
    "name": "ipython",
    "version": 3
   },
   "file_extension": ".py",
   "mimetype": "text/x-python",
   "name": "python",
   "nbconvert_exporter": "python",
   "pygments_lexer": "ipython3",
   "version": "3.7.3"
  }
 },
 "nbformat": 4,
 "nbformat_minor": 2
}
