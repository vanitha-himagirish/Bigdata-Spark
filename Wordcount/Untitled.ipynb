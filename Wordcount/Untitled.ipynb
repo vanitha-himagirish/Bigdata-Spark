{
 "cells": [
  {
   "cell_type": "code",
   "execution_count": 1,
   "metadata": {},
   "outputs": [],
   "source": [
    "input_file = sc.textFile(\"C:\\Spark_Examples\\Wordcount\\WC.txt\")\n",
    "map = input_file.flatMap(lambda line: line.split(\" \")).map(lambda word: (word, 1))\n",
    "counts = map.reduceByKey(lambda a, b: a + b)\n",
    "counts.saveAsTextFile(\"C:\\Spark_Examples\\Wordcount\\output\")\n"
   ]
  },
  {
   "cell_type": "code",
   "execution_count": null,
   "metadata": {},
   "outputs": [],
   "source": []
  }
 ],
 "metadata": {
  "kernelspec": {
   "display_name": "Python 3",
   "language": "python",
   "name": "python3"
  },
  "language_info": {
   "codemirror_mode": {
    "name": "ipython",
    "version": 3
   },
   "file_extension": ".py",
   "mimetype": "text/x-python",
   "name": "python",
   "nbconvert_exporter": "python",
   "pygments_lexer": "ipython3",
   "version": "3.7.3"
  }
 },
 "nbformat": 4,
 "nbformat_minor": 2
}
