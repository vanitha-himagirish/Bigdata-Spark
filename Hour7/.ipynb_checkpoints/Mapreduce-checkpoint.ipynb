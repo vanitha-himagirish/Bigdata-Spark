{
 "cells": [
  {
   "cell_type": "code",
   "execution_count": 11,
   "metadata": {},
   "outputs": [
    {
     "data": {
      "text/plain": [
       "[['A', 'MIDSUMMER', 'NIGHT', 'S', 'DREAM'],\n",
       " [''],\n",
       " ['Now', 'fair', 'Hippolyta', 'our', 'nuptial', 'hour'],\n",
       " [''],\n",
       " ['Draws', 'on', 'apace', 'four', 'happy', 'days', 'bring', 'in']]"
      ]
     },
     "execution_count": 11,
     "metadata": {},
     "output_type": "execute_result"
    }
   ],
   "source": [
    "import re\n",
    "\n",
    "sc.textFile(\"poem.txt\") \\\n",
    ".map(lambda line: re.split('\\W+',line)) \\\n",
    ".take(5)"
   ]
  },
  {
   "cell_type": "code",
   "execution_count": 14,
   "metadata": {},
   "outputs": [
    {
     "data": {
      "text/plain": [
       "['A',\n",
       " 'MIDSUMMER',\n",
       " 'NIGHT',\n",
       " 'S',\n",
       " 'DREAM',\n",
       " '',\n",
       " 'Now',\n",
       " 'fair',\n",
       " 'Hippolyta',\n",
       " 'our',\n",
       " 'nuptial',\n",
       " 'hour',\n",
       " '',\n",
       " 'Draws',\n",
       " 'on',\n",
       " 'apace',\n",
       " 'four',\n",
       " 'happy',\n",
       " 'days',\n",
       " 'bring',\n",
       " 'in',\n",
       " '',\n",
       " 'Another',\n",
       " 'moon',\n",
       " 'but',\n",
       " 'O',\n",
       " 'methinks',\n",
       " 'how',\n",
       " 'slow']"
      ]
     },
     "execution_count": 14,
     "metadata": {},
     "output_type": "execute_result"
    }
   ],
   "source": [
    "import re\n",
    "\n",
    "sc.textFile(\"poem.txt\") \\\n",
    ".flatMap(lambda line: re.split('\\W+',line)) \\\n",
    ".take(30)"
   ]
  },
  {
   "cell_type": "code",
   "execution_count": 27,
   "metadata": {},
   "outputs": [
    {
     "data": {
      "text/plain": [
       "[('A', 1),\n",
       " ('MIDSUMMER', 1),\n",
       " ('NIGHT', 1),\n",
       " ('S', 1),\n",
       " ('DREAM', 1),\n",
       " ('', 1),\n",
       " ('Now', 1),\n",
       " ('fair', 1),\n",
       " ('Hippolyta', 1),\n",
       " ('our', 1),\n",
       " ('nuptial', 1),\n",
       " ('hour', 1),\n",
       " ('', 1),\n",
       " ('Draws', 1),\n",
       " ('on', 1),\n",
       " ('apace', 1),\n",
       " ('four', 1),\n",
       " ('happy', 1),\n",
       " ('days', 1),\n",
       " ('bring', 1),\n",
       " ('in', 1),\n",
       " ('', 1),\n",
       " ('Another', 1),\n",
       " ('moon', 1),\n",
       " ('but', 1),\n",
       " ('O', 1),\n",
       " ('methinks', 1),\n",
       " ('how', 1),\n",
       " ('slow', 1)]"
      ]
     },
     "execution_count": 27,
     "metadata": {},
     "output_type": "execute_result"
    }
   ],
   "source": [
    "import re\n",
    "kvrdd=sc.textFile(\"poem.txt\") \\\n",
    ".flatMap(lambda line: re.split('\\W+', line)) \\\n",
    ".map(lambda word:(word,1))\n",
    "kvrdd.take(30)\n"
   ]
  },
  {
   "cell_type": "code",
   "execution_count": 33,
   "metadata": {},
   "outputs": [
    {
     "data": {
      "text/plain": [
       "[('MIDSUMMER', 1),\n",
       " ('NIGHT', 1),\n",
       " ('S', 1),\n",
       " ('', 3),\n",
       " ('Now', 1),\n",
       " ('Hippolyta', 1),\n",
       " ('nuptial', 1),\n",
       " ('apace', 1),\n",
       " ('four', 1),\n",
       " ('days', 1),\n",
       " ('bring', 1),\n",
       " ('in', 1),\n",
       " ('Another', 1),\n",
       " ('but', 1),\n",
       " ('O', 1),\n",
       " ('methinks', 1),\n",
       " ('A', 1),\n",
       " ('DREAM', 1),\n",
       " ('fair', 1),\n",
       " ('our', 1),\n",
       " ('hour', 1),\n",
       " ('Draws', 1),\n",
       " ('on', 1),\n",
       " ('happy', 1),\n",
       " ('moon', 1),\n",
       " ('slow', 2)]"
      ]
     },
     "execution_count": 33,
     "metadata": {},
     "output_type": "execute_result"
    }
   ],
   "source": [
    "import re\n",
    "kvrdd=sc.textFile(\"poem.txt\") \\\n",
    ".flatMap(lambda line: re.split('\\W+', line)) \\\n",
    ".map(lambda word:(word,1))\n",
    "kvrdd.reduceByKey(lambda v1, v2: v1 + v2) \\\n",
    ".take(30)"
   ]
  },
  {
   "cell_type": "code",
   "execution_count": 1,
   "metadata": {},
   "outputs": [
    {
     "data": {
      "text/plain": [
       "shakespeare.txt MapPartitionsRDD[1] at textFile at NativeMethodAccessorImpl.java:0"
      ]
     },
     "execution_count": 1,
     "metadata": {},
     "output_type": "execute_result"
    }
   ],
   "source": [
    "#Word count\n",
    "import re\n",
    "\n",
    "doc = sc.textFile(\"shakespeare.txt\")\n",
    "doc\n",
    "\n",
    "\n"
   ]
  },
  {
   "cell_type": "code",
   "execution_count": 3,
   "metadata": {},
   "outputs": [],
   "source": [
    "# use the filter function to remove lines with no text\n",
    "\n",
    "flattened = doc.filter(lambda line: len(line) > 0) \\\n",
    ".flatMap(lambda line: re.split('\\W+', line))"
   ]
  },
  {
   "cell_type": "code",
   "execution_count": 4,
   "metadata": {},
   "outputs": [
    {
     "data": {
      "text/plain": [
       "['A', 'MIDSUMMER', 'NIGHT', 'S', 'DREAM', 'Now']"
      ]
     },
     "execution_count": 4,
     "metadata": {},
     "output_type": "execute_result"
    }
   ],
   "source": [
    "flattened.take(6)\n"
   ]
  },
  {
   "cell_type": "code",
   "execution_count": 6,
   "metadata": {},
   "outputs": [],
   "source": [
    "kvpairs = flattened.filter(lambda word: len(word) > 0) \\\n",
    ".map(lambda word:(word.lower(),1))"
   ]
  },
  {
   "cell_type": "code",
   "execution_count": 7,
   "metadata": {},
   "outputs": [
    {
     "data": {
      "text/plain": [
       "[('a', 1), ('midsummer', 1), ('night', 1), ('s', 1), ('dream', 1)]"
      ]
     },
     "execution_count": 7,
     "metadata": {},
     "output_type": "execute_result"
    }
   ],
   "source": [
    "kvpairs.take(5)\n"
   ]
  },
  {
   "cell_type": "code",
   "execution_count": 38,
   "metadata": {},
   "outputs": [],
   "source": [
    "countsbyword = kvpairs.reduceByKey(lambda v1, v2: v1 + v2) \\\n",
    ".sortByKey(ascending=False)"
   ]
  },
  {
   "cell_type": "code",
   "execution_count": 39,
   "metadata": {},
   "outputs": [
    {
     "data": {
      "text/plain": [
       "[('zwaggered', 1), ('zur', 2), ('zounds', 19), ('zone', 1), ('zodiacs', 1)]"
      ]
     },
     "execution_count": 39,
     "metadata": {},
     "output_type": "execute_result"
    }
   ],
   "source": [
    "countsbyword.take(5)\n"
   ]
  },
  {
   "cell_type": "code",
   "execution_count": 53,
   "metadata": {},
   "outputs": [],
   "source": [
    "#Displays top 10 words\n",
    "topwords = countsbyword.map(lambda w:(w[1],w[0])) \\\n",
    ".sortByKey(ascending=False)\n",
    "\n",
    "\n"
   ]
  },
  {
   "cell_type": "code",
   "execution_count": 55,
   "metadata": {},
   "outputs": [
    {
     "data": {
      "text/plain": [
       "[(26856, 'the'),\n",
       " (24116, 'and'),\n",
       " (22412, 'i'),\n",
       " (19225, 'to'),\n",
       " (16018, 'of'),\n",
       " (14097, 'you'),\n",
       " (13986, 'a'),\n",
       " (12283, 'my'),\n",
       " (11171, 'that'),\n",
       " (10640, 'in')]"
      ]
     },
     "execution_count": 55,
     "metadata": {},
     "output_type": "execute_result"
    }
   ],
   "source": [
    "topwords.take(10)\n"
   ]
  },
  {
   "cell_type": "code",
   "execution_count": null,
   "metadata": {},
   "outputs": [],
   "source": []
  }
 ],
 "metadata": {
  "kernelspec": {
   "display_name": "Python 3",
   "language": "python",
   "name": "python3"
  },
  "language_info": {
   "codemirror_mode": {
    "name": "ipython",
    "version": 3
   },
   "file_extension": ".py",
   "mimetype": "text/x-python",
   "name": "python",
   "nbconvert_exporter": "python",
   "pygments_lexer": "ipython3",
   "version": "3.7.3"
  }
 },
 "nbformat": 4,
 "nbformat_minor": 2
}
